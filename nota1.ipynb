{
  "metadata": {
    "kernelspec": {
      "name": "python",
      "display_name": "Python (Pyodide)",
      "language": "python"
    },
    "language_info": {
      "codemirror_mode": {
        "name": "python",
        "version": 3
      },
      "file_extension": ".py",
      "mimetype": "text/x-python",
      "name": "python",
      "nbconvert_exporter": "python",
      "pygments_lexer": "ipython3",
      "version": "3.8"
    }
  },
  "nbformat_minor": 5,
  "nbformat": 4,
  "cells": [
    {
      "id": "a42b65d2-4ebc-4274-8354-1b2ccb7c2bbb",
      "cell_type": "code",
      "source": "#if\nnumero = 10 \nif numero > 5:\n    print (\"El numero es mayor a 5\")\n\n\n#If-else\nx = 5\nif x > 4:\n    print(\"La condición era verdadera\")\nelse:\n    print(\"La condición era falsa\")\n\n#Funcion\ndef suma(a, b):\n    return a + b\n\nprint(suma(3, 7))\n\n\n#Lista\nmi_lista = [1, 2, 3, 4]\nprint(mi_lista)   \n\n#Diccionaro \nmi_diccionario = {\"nombre\": \"Sara\", \"edad\": 27}\nprint(mi_diccionario)\n\n\n\n\n\n\n    ",
      "metadata": {
        "trusted": true
      },
      "outputs": [
        {
          "name": "stdout",
          "output_type": "stream",
          "text": "El numero es mayor a 5\nLa condición era verdadera\n10\n[1, 2, 3, 4]\n{'nombre': 'Sara', 'edad': 27}\n"
        }
      ],
      "execution_count": 2
    },
    {
      "id": "9f95770c-cec2-4535-a009-5c6bac760d75",
      "cell_type": "code",
      "source": "",
      "metadata": {
        "trusted": true
      },
      "outputs": [],
      "execution_count": null
    }
  ]
}